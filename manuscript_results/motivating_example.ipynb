{
 "cells": [
  {
   "cell_type": "markdown",
   "metadata": {
    "kernel": "SoS"
   },
   "source": [
    "# A demonstration of SuSiE's motivations\n",
    "\n",
    "This document explains with toy example illustration the unique type of inference SuSiE is interested in."
   ]
  },
  {
   "cell_type": "markdown",
   "metadata": {
    "kernel": "SoS"
   },
   "source": [
    "## The inference problem"
   ]
  },
  {
   "cell_type": "markdown",
   "metadata": {
    "kernel": "SoS"
   },
   "source": [
    "We assume our audience are familiar or interested in large scale regression. Similar to eg LASSO, SuSiE is a method for variable selection in large scale regression. Yet the type of inference SuSiE attempts to accomplish is different from other large scale regression methods, and is worth motivating in this document for those not familiar with this particular type of inference."
   ]
  },
  {
   "cell_type": "markdown",
   "metadata": {
    "kernel": "SoS"
   },
   "source": [
    "The type of inference is motivated by the so-called \"genetic fine-mapping\" study. Consider fitting the regression model $$y = \\sum_{j=1}^p x_j\\beta_j + \\epsilon \\quad \\epsilon \\sim N(0, \\sigma^2)$$ where $x_1 = x_2, x_3 = x_4$ and \n",
    "$\\beta_1 \\ne 0, \\beta_4 \\ne 0, \\beta_{j \\notin \\{1,4\\}} = 0$. Our goal is to make a statement that $$\\beta_1 \\ne 0 \\text{ or } \\beta_2 \\ne 0, \\text{ and } \\beta_3 \\ne 0 \\text{ or } \\beta_4 \\ne 0,$$"
   ]
  },
  {
   "cell_type": "markdown",
   "metadata": {
    "kernel": "SoS"
   },
   "source": [
    "that is, in SuSiE variable selection we want to capture the fact that variables $x_1$ and $x_2$ (likewise $x_3$ and $x_4$) are too similar to distinguish. This is an inference that to our knowledge few other large scale regression can make; at least not in an intuitive and interpretable fashion."
   ]
  },
  {
   "cell_type": "markdown",
   "metadata": {
    "kernel": "SoS"
   },
   "source": [
    "To illustrate here I set $p=1000$ and simulate a data-set:"
   ]
  },
  {
   "cell_type": "code",
   "execution_count": 1,
   "metadata": {
    "kernel": "R"
   },
   "outputs": [],
   "source": [
    "set.seed(1)\n",
    "n = 500\n",
    "p = 1000\n",
    "b = rep(0,p)\n",
    "b[200] = 1\n",
    "b[800] = 1\n",
    "X = matrix(rnorm(n*p),nrow=n,ncol=p)\n",
    "X[,200] = X[,400]\n",
    "X[,600] = X[,800]\n",
    "y = X %*% b + rnorm(n)"
   ]
  },
  {
   "cell_type": "markdown",
   "metadata": {
    "kernel": "SoS"
   },
   "source": [
    "## LASSO inference\n",
    "\n",
    "LASSO will simply choose one of:\n",
    "\n",
    "- $x_1, x_3$\n",
    "- $x_1, x_4$\n",
    "- $x_2, x_3$\n",
    "- $x_2, x_4$\n",
    "\n",
    "This is not what we want. For instance on the simulated data,"
   ]
  },
  {
   "cell_type": "code",
   "execution_count": 2,
   "metadata": {
    "kernel": "R"
   },
   "outputs": [
    {
     "data": {
      "image/png": "[encoded data removed]",
      "text/plain": [
       "plot without title"
      ]
     },
     "metadata": {},
     "output_type": "display_data"
    }
   ],
   "source": [
    "alpha = 1\n",
    "y.fit = glmnet::glmnet(X,y,alpha = alpha,intercept = FALSE)\n",
    "y.cv  = glmnet::cv.glmnet(X,y,alpha = alpha,intercept = FALSE,\n",
    "                         lambda = y.fit$lambda)\n",
    "bhat  = glmnet::predict.glmnet(y.fit,type =\"coefficients\",\n",
    "                               s = y.cv$lambda.min)[-1,1]\n",
    "plot(bhat, col=\"black\", pch=16)\n",
    "pos = 1:length(bhat)\n",
    "points(pos[b!=0],bhat[b!=0],col=2,pch=16)        "
   ]
  },
  {
   "cell_type": "markdown",
   "metadata": {
    "kernel": "R"
   },
   "source": [
    "LASSO randomly picked $x_1$ and $x_3$ even though the true non-zero effects are $\\beta_1$ and $\\beta_4$."
   ]
  },
  {
   "cell_type": "markdown",
   "metadata": {
    "kernel": "SoS"
   },
   "source": [
    "## Existing Bayesian methods for sparse regression"
   ]
  },
  {
   "cell_type": "markdown",
   "metadata": {
    "kernel": "SoS"
   },
   "source": [
    "For sparse enough problems, most other Bayesian methods provide posterior probabilities on \"models\" by enumerating (CAVIAR), schochastic search (FINEMAP) or sampling (BIMBAM) from all possible combinations of variables. In our motivating example, the \"true\" posterior for models are\n",
    "\\begin{align}\n",
    "p(\\beta_1 \\ne 0, \\beta_2 = 0, \\beta_3 \\ne 0, \\beta_4 = 0, \\beta_{j>5} = 0) &= 0.25 \\\\\n",
    "p(\\beta_1 = 0, \\beta_2 \\ne 0, \\beta_3 \\ne 0, \\beta_4 = 0, \\beta_{j>5} = 0) &= 0.25 \\\\\n",
    "p(\\beta_1 \\ne 0, \\beta_2 = 0, \\beta_3 = 0, \\beta_4 \\ne 0, \\beta_{j>5} = 0) &= 0.25 \\\\\n",
    "p(\\beta_1 = 0, \\beta_2 \\ne 0, \\beta_3 = 0, \\beta_4 \\ne 0, \\beta_{j>5} = 0) &= 0.25.\n",
    "\\end{align}\n",
    "Although compared to LASSO the model posterior contains the information to make statements about $\\beta_1 \\ne 0 \\text{ or } \\beta_2 \\ne 0, \\text{ and } \\beta_3 \\ne 0 \\text{ or } \\beta_4 \\ne 0$, it is not explicitly provided. One has to post-process these posteriors in order to make the statement. Such pre-processing is non-trivial, see eg Stephens and Balding 2009 for an example in the context of genetic fine-mapping. \n",
    "\n",
    "In addition, marginalized probabilities are often provided by these Bayesian methods, calcuated as\n",
    "\\begin{align}\n",
    "p(\\beta_1) &= p(\\beta_1 \\ne 0, \\beta_2 = 0, \\beta_3 \\ne 0, \\beta_4 = 0, \\beta_{j>5} = 0) + \\\\\n",
    "& = p(\\beta_1 \\ne 0, \\beta_2 = 0, \\beta_3 = 0, \\beta_4 \\ne 0, \\beta_{j>5} = 0)  \\\\\n",
    "& = 0.5,\n",
    "\\end{align}\n",
    "but this does not provide the type of inference we are interested in.\n",
    "\n",
    "We illustrate Bayesian variable selection using `FINEMAP`,"
   ]
  },
  {
   "cell_type": "code",
   "execution_count": 3,
   "metadata": {
    "kernel": "R"
   },
   "outputs": [],
   "source": [
    "library(abind)\n",
    "mm_regression = function(X, Y, Z=NULL) {\n",
    "  if (!is.null(Z)) {\n",
    "      Z = as.matrix(Z)\n",
    "  }\n",
    "  reg = lapply(seq_len(ncol(Y)), function (i) simplify2array(susieR:::univariate_regression(X, Y[,i], Z)))\n",
    "  reg = do.call(abind, c(reg, list(along=0)))\n",
    "  # return array: out[1,,] is betahat, out[2,,] is shat\n",
    "  return(aperm(reg, c(3,2,1)))\n",
    "}\n",
    "sumstats = mm_regression(as.matrix(X), as.matrix(y))\n",
    "dat = list(X=X,Y=as.matrix(y))\n",
    "saveRDS(list(data=dat, sumstats=sumstats), '/tmp/Toy.with_sumstats.rds')"
   ]
  },
  {
   "cell_type": "code",
   "execution_count": 4,
   "metadata": {
    "kernel": "Bash"
   },
   "outputs": [
    {
     "name": "stdout",
     "output_type": "stream",
     "text": [
      "\n",
      "|---------------------------------|\n",
      "| Welcome to FINEMAP v1.1         |\n",
      "|                                 |\n",
      "| (c) 2015 University of Helsinki |\n",
      "|                                 |\n",
      "| Help / Documentation:           |\n",
      "| - ./finemap --help              |\n",
      "| - www.christianbenner.com       |\n",
      "|                                 |\n",
      "| Contact:                        |\n",
      "| - christian.benner@helsinki.fi  |\n",
      "| - matti.pirinen@helsinki.fi     |\n",
      "|---------------------------------|\n",
      "\n",
      "--------\n",
      "SETTINGS\n",
      "--------\n",
      "- regions         : 1 \n",
      "- n-causal-max    : 2\n",
      "- n-configs-top   : 50000\n",
      "- n-iterations    : 100000\n",
      "- n-convergence   : 1000\n",
      "- prob-tol        : 0.001\n",
      "- corr-config     : 0.95\n",
      "- prior-std       : 0.05\n",
      "- prior-k0        : 0\n",
      "\n",
      "---------------\n",
      "RUNNING FINEMAP (1/1)\n",
      "---------------\n",
      "- GWAS z-scores                   : /tmp/RtmpszFoWT/file17e1113eb673.finemap_condition_1.z\n",
      "- SNP correlations                : /tmp/RtmpszFoWT/file17e14545815b.ld\n",
      "- Causal SNP configurations       : /tmp/RtmpszFoWT/file17e1113eb673.finemap_condition_1.config\n",
      "- Single-SNP statistics           : /tmp/RtmpszFoWT/file17e1113eb673.finemap_condition_1.snp\n",
      "- Log file                        : /tmp/RtmpszFoWT/file17e1113eb673.finemap_condition_1.log\n",
      "\n",
      "- Reading input                   : done!\n",
      "- Number of SNPs in region        : 1000\n",
      "- Number of individuals in GWAS   : 500\n",
      "- Prior-Pr(# of causal SNPs is k) : \n",
      "  (0 -> 0)\n",
      "   1 -> 0.666667\n",
      "   2 -> 0.333333\n",
      "- 9955 configurations evaluated (1.004/100%) : converged after 1004 iterations\n",
      "- log10(Evidence of at least 1 causal SNP) : 60.0667\n",
      "- Post-Pr(# of causal SNPs is k)  : \n",
      "   0 -> 0\n",
      "   1 -> 8.6199e-22\n",
      "   2 -> 1\n",
      "- Writing output                  : done!\n",
      "- Run time                        : 0 hours, 0 minutes, 2 seconds\n",
      "\n"
     ]
    }
   ],
   "source": [
    "export PATH=~/GIT/github/mvarbvs/dsc/modules/linux:$PATH\n",
    "Rscript ~/GIT/software/susieR/inst/code/finemap.R input=\\\"/tmp/Toy.with_sumstats.rds\\\" output=\\\"N2finemapping.FINEMAP\\\" args=\\\"--n-causal-max\\ 2\\\" 2> /dev/null"
   ]
  },
  {
   "cell_type": "markdown",
   "metadata": {
    "kernel": "Bash"
   },
   "source": [
    "Posterior probabilities for \"models\" are:"
   ]
  },
  {
   "cell_type": "code",
   "execution_count": 5,
   "metadata": {
    "kernel": "R"
   },
   "outputs": [
    {
     "data": {
      "text/html": [
       "<table>\n",
       "<thead><tr><th scope=col>rank</th><th scope=col>config</th><th scope=col>config_prob</th><th scope=col>config_log10bf</th></tr></thead>\n",
       "<tbody>\n",
       "\t<tr><td>1       </td><td>400,800 </td><td>0.25    </td><td>65.64032</td></tr>\n",
       "\t<tr><td>2       </td><td>400,600 </td><td>0.25    </td><td>65.64032</td></tr>\n",
       "\t<tr><td>3       </td><td>200,600 </td><td>0.25    </td><td>65.64032</td></tr>\n",
       "\t<tr><td>4       </td><td>200,800 </td><td>0.25    </td><td>65.64032</td></tr>\n",
       "\t<tr><td>5       </td><td>200     </td><td>0.00    </td><td>41.57626</td></tr>\n",
       "\t<tr><td>6       </td><td>400     </td><td>0.00    </td><td>41.57626</td></tr>\n",
       "</tbody>\n",
       "</table>\n"
      ],
      "text/latex": [
       "\\begin{tabular}{r|llll}\n",
       " rank & config & config\\_prob & config\\_log10bf\\\\\n",
       "\\hline\n",
       "\t 1        & 400,800  & 0.25     & 65.64032\\\\\n",
       "\t 2        & 400,600  & 0.25     & 65.64032\\\\\n",
       "\t 3        & 200,600  & 0.25     & 65.64032\\\\\n",
       "\t 4        & 200,800  & 0.25     & 65.64032\\\\\n",
       "\t 5        & 200      & 0.00     & 41.57626\\\\\n",
       "\t 6        & 400      & 0.00     & 41.57626\\\\\n",
       "\\end{tabular}\n"
      ],
      "text/markdown": [
       "\n",
       "rank | config | config_prob | config_log10bf | \n",
       "|---|---|---|---|---|---|\n",
       "| 1        | 400,800  | 0.25     | 65.64032 | \n",
       "| 2        | 400,600  | 0.25     | 65.64032 | \n",
       "| 3        | 200,600  | 0.25     | 65.64032 | \n",
       "| 4        | 200,800  | 0.25     | 65.64032 | \n",
       "| 5        | 200      | 0.00     | 41.57626 | \n",
       "| 6        | 400      | 0.00     | 41.57626 | \n",
       "\n",
       "\n"
      ],
      "text/plain": [
       "  rank config  config_prob config_log10bf\n",
       "1 1    400,800 0.25        65.64032      \n",
       "2 2    400,600 0.25        65.64032      \n",
       "3 3    200,600 0.25        65.64032      \n",
       "4 4    200,800 0.25        65.64032      \n",
       "5 5    200     0.00        41.57626      \n",
       "6 6    400     0.00        41.57626      "
      ]
     },
     "metadata": {},
     "output_type": "display_data"
    }
   ],
   "source": [
    "finemap = readRDS(\"N2finemapping.FINEMAP.rds\")[[1]]\n",
    "head(finemap$set)"
   ]
  },
  {
   "cell_type": "markdown",
   "metadata": {
    "kernel": "R"
   },
   "source": [
    "`FINEMAP` correctly determined 4 \"model configurations\" as expected, each with probability 0.25. Simply marginalizing across all models we obtain posterior inclusion probability per feature,"
   ]
  },
  {
   "cell_type": "code",
   "execution_count": 6,
   "metadata": {
    "kernel": "R"
   },
   "outputs": [
    {
     "data": {
      "image/png": "[encoded data removed]",
      "text/plain": [
       "Plot with title “FINEMAP”"
      ]
     },
     "metadata": {},
     "output_type": "display_data"
    }
   ],
   "source": [
    "snp = finemap$snp\n",
    "pip = snp[order(as.numeric(snp$snp)),]$snp_prob\n",
    "susieR::susie_pplot(pip, dtype='PIP', b=b, main = 'FINEMAP')"
   ]
  },
  {
   "cell_type": "markdown",
   "metadata": {
    "kernel": "R"
   },
   "source": [
    "From these marginalized posterior we can only make a statement that each of the 4 identified variables have 0.5 probability of being non-zero. That is, they all have equal contributions. It does not reflect the fact that the result comes from identical feature pairs $x_1, x_2$ and $x_3, x_4$."
   ]
  },
  {
   "cell_type": "markdown",
   "metadata": {
    "kernel": "SoS"
   },
   "source": [
    "Existing variational inference methods (`varbvs`) do not provide even the marginal posterior probabilities, although like LASSO, existing variational methods are good for prediction purposes."
   ]
  },
  {
   "cell_type": "markdown",
   "metadata": {
    "kernel": "SoS"
   },
   "source": [
    "## SuSiE\n",
    "\n",
    "SuSiE uses a variational inference algorithm which is not only computational convenient, but also directly obtains posterior statements of the desired form."
   ]
  },
  {
   "cell_type": "code",
   "execution_count": 7,
   "metadata": {
    "kernel": "R"
   },
   "outputs": [
    {
     "data": {
      "image/png": "[encoded data removed]",
      "text/plain": [
       "Plot with title “SuSiE 2 sets of variables identified”"
      ]
     },
     "metadata": {},
     "output_type": "display_data"
    }
   ],
   "source": [
    "fitted = susieR::susie(X, y, L=5,\n",
    "               estimate_residual_variance=TRUE, \n",
    "               scaled_prior_variance=0.2,\n",
    "               tol=1e-3, track_fit=TRUE)\n",
    "sets = susieR::susie_get_CS(fitted,\n",
    "            coverage = 0.95,\n",
    "            X = X, \n",
    "            min_abs_corr = 0.1)\n",
    "pip = susieR::susie_get_PIP(fitted, sets$cs_index)\n",
    "susieR::susie_pplot(pip, res=fitted, CS=sets, dtype='PIP', b=b, max_cs=0.4, main = paste('SuSiE', length(sets$cs), 'sets of variables identified'))"
   ]
  },
  {
   "cell_type": "markdown",
   "metadata": {
    "kernel": "SoS"
   },
   "source": [
    "Here SuSiE identifies 2 sets of variables -- 2 confidence sets each containing one causal variable (blue and green circles). The marginal posterior is the same as from existing Bayesian methods (FINEMAP result), but with the two sets identified one can easily state that the causal variables are ($x_1$ or $x_2$), and ($x_3$ or $x_4$). Within each set, the contributions of variables are equal because there is no information to distinguish between them.\n",
    "\n",
    "Notice that SuSiE does not provide the following inference: ($x_1$ and $x_3$), or ($x_1$ and $x_4$), or ($x_2$ and $x_3$), or ($x_2$ and $x_4$)."
   ]
  }
 ],
 "metadata": {
  "kernelspec": {
   "display_name": "SoS",
   "language": "sos",
   "name": "sos"
  },
  "language_info": {
   "codemirror_mode": "sos",
   "file_extension": ".sos",
   "mimetype": "text/x-sos",
   "name": "sos",
   "nbconvert_exporter": "sos_notebook.converter.SoS_Exporter",
   "pygments_lexer": "sos"
  },
  "sos": {
   "kernels": [
    [
     "Bash",
     "bash",
     "Bash",
     "#E6EEFF"
    ],
    [
     "R",
     "ir",
     "R",
     "#DCDCDA"
    ]
   ],
   "version": "0.16.11"
  }
 },
 "nbformat": 4,
 "nbformat_minor": 2
}
