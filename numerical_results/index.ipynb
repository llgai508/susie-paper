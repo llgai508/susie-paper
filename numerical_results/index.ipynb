{
 "cells": [
  {
   "cell_type": "markdown",
   "metadata": {
    "kernel": "SoS"
   },
   "source": [
    "# Numerical Comparisons\n",
    "\n",
    "This page contains information to reproduce the numerical comparisons made in SuSiE manuscript. Note that the DSC benchmark has to be completed at this stage. \n",
    "Please [follow these instructions](../DSC.html) to run the DSC benchmark for SuSiE fine-mapping applications. The benchmark is computationally intensive due to some of the methods compared. \n",
    "If you do not want to rerun the benchmark yourself but only to reproduce our comparison figure and tables, you can [download the data here](https://shiny.stephenslab.uchicago.edu/html/)."
   ]
  },
  {
   "cell_type": "code",
   "execution_count": null,
   "metadata": {
    "kernel": "SoS"
   },
   "outputs": [],
   "source": []
  }
 ],
 "metadata": {
  "kernelspec": {
   "display_name": "SoS",
   "language": "sos",
   "name": "sos"
  },
  "language_info": {
   "name": ""
  },
  "sos": {
   "default_kernel": "SoS",
   "kernels": [
    [
     "SoS",
     "sos",
     "",
     ""
    ]
   ]
  }
 },
 "nbformat": 4,
 "nbformat_minor": 2
}
