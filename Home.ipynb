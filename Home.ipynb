{
 "cells": [
  {
   "cell_type": "markdown",
   "metadata": {
    "kernel": "SoS"
   },
   "source": [
    "# Code and data accompanying SuSiE manuscript (Wang et al, 2018)"
   ]
  },
  {
   "cell_type": "markdown",
   "metadata": {
    "kernel": "SoS"
   },
   "source": [
    "## Overview\n",
    "\n",
    "This repository contains code and data resources to accompany our research paper:\n",
    "\n",
    "> Gao Wang, Abhishek Sarkar, Peter Carbonetto, Matthew Stephens (2018). \n",
    "A new variational approach to variable\n",
    "selection in regression, with applications\n",
    "to fine-mapping genetic associations. (in preparation)\n",
    "\n",
    "We provide three sets of resources:\n",
    "\n",
    "1. If you are primarily interested in applying SuSiE to your own data in a generic setting, please see the [susieR package](https://stephenslab.github.io/susieR). A good place to start is the [vignettes page](https://stephenslab.github.io/susieR/articles/index.html). The [notebook here](pedagogical_example/index.html) to reproduce the pedagogical example used in our paper may also be useful to understanding the SuSiE method.\n",
    "\n",
    "2. If you would like to reproduce the numerical studies in comparison with fine-mapping methods CAVIAR, FINEMAP and DAP, please see [here](DSC.html) for an implementation in the Dynamic Statistical Comparison framework, and [here](numerical_results.html) to reproduce figures and tables in the numerical studies section of the manuscript.\n",
    "\n",
    "3. If you would like to use SuSiE for fine-mapping of molecular traits similar to our data application of association analysis of splice QTL data please see [here](Li_2016_sQTL.html) for details: we provide a pipeline for fine-mapping with SuSiE and enrichment analysis with `GREGOR`, along with the commands used to perfrom anlaysis for the data application section of the manuscript."
   ]
  },
  {
   "cell_type": "markdown",
   "metadata": {
    "kernel": "SoS"
   },
   "source": [
    "## Citing this repository\n",
    "\n",
    "If you find any of the source code in this repository useful for your work, please cite our manuscript, Wang et al (2018). The full citation is given above. Please also cite the Zenodo archive:\n",
    "\n",
    "> Gao Wang, Abhishek Sarkar, Peter Carbonetto and Matthew Stephens (2018), Code and data accompanying SuSiE manuscript (Wang et al, 2018), version 1.0, Zenodo, [doi:10.5281/zenodo.1296399](https://doi.org/10.5281/zenodo.1296398)."
   ]
  },
  {
   "cell_type": "markdown",
   "metadata": {
    "kernel": "SoS"
   },
   "source": [
    "## License\n",
    "\n",
    "Copyright (c) 2017-2018, Gao Wang, Abhishek Sarkar, Peter Carbonetto and Matthew Stephens.\n",
    "\n",
    "All source code and software in this repository are made available under the terms of the [MIT license](https://opensource.org/licenses/mit-license.html)."
   ]
  }
 ],
 "metadata": {
  "kernelspec": {
   "display_name": "SoS",
   "language": "sos",
   "name": "sos"
  },
  "language_info": {
   "codemirror_mode": "sos",
   "file_extension": ".sos",
   "mimetype": "text/x-sos",
   "name": "sos",
   "nbconvert_exporter": "sos_notebook.converter.SoS_Exporter",
   "pygments_lexer": "sos"
  },
  "sos": {
   "default_kernel": "SoS",
   "kernels": [
    [
     "SoS",
     "sos",
     "",
     ""
    ]
   ]
  }
 },
 "nbformat": 4,
 "nbformat_minor": 2
}
